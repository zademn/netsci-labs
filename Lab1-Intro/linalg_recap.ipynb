{
 "cells": [
  {
   "cell_type": "markdown",
   "id": "c79eb370-9af2-4f3c-b83c-8bf1b2ae5c34",
   "metadata": {},
   "source": [
    "$\\newcommand{\\diag}{{\\text{diag}}}$"
   ]
  },
  {
   "cell_type": "code",
   "execution_count": 1,
   "id": "7a8cd9ba-5d4b-4887-a008-88c788e69ba2",
   "metadata": {},
   "outputs": [],
   "source": [
    "import numpy as np"
   ]
  },
  {
   "cell_type": "markdown",
   "id": "b3b8ec37-9132-4eaa-b2b9-fa4ff22958a9",
   "metadata": {},
   "source": [
    "## Resources\n",
    "- [Cheat sheet](https://courses.engr.illinois.edu/ece498rc3/fa2016/material/linearAlgebra_4pgs.pdf)\n",
    "- [3blue1brown](https://www.youtube.com/playlist?list=PLZHQObOWTQDPD3MizzM2xVFitgF8hE_ab)\n",
    "- [Intuitive math](https://intuitive-math.club/linear-algebra/spaces)"
   ]
  },
  {
   "cell_type": "markdown",
   "id": "c0c475d3-7580-46a3-8e40-9e8d9fd22465",
   "metadata": {},
   "source": [
    "# Basic concepts"
   ]
  },
  {
   "cell_type": "code",
   "execution_count": 2,
   "id": "57c26cd7-5b63-4572-8e7c-8fa99b790cad",
   "metadata": {},
   "outputs": [
    {
     "name": "stdout",
     "output_type": "stream",
     "text": [
      "2\n"
     ]
    }
   ],
   "source": [
    "# Scalar\n",
    "x = 2\n",
    "print(x)"
   ]
  },
  {
   "cell_type": "code",
   "execution_count": 4,
   "id": "357b9c38-106c-45c4-b893-8e53858fe326",
   "metadata": {},
   "outputs": [
    {
     "name": "stdout",
     "output_type": "stream",
     "text": [
      "[1 2 3]\n"
     ]
    }
   ],
   "source": [
    "# Vector\n",
    "x = np.array([1, 2, 3])\n",
    "print(x)"
   ]
  },
  {
   "cell_type": "markdown",
   "id": "1e9dc32c-fe41-4898-a523-fe3f4691fa03",
   "metadata": {},
   "source": [
    "**Norm**\n",
    "- [Wikipedia entry](https://en.wikipedia.org/wiki/Norm_(mathematics))\n",
    "\n",
    "$$\\|x\\|_p = \\left( \\sum_{i=1}^n |x_i|^p \\right)^{\\dfrac 1 p}$$\n",
    "\n",
    "In ML we are usually using $L_1, L_2, L_{\\infty}$ norm.\n",
    "\n",
    "$L_1$ norm: $\\|x\\|_1 = \\sum_{i=1}^n |x_i|$\n",
    "\n",
    "$L_2$ norm $\\|x\\|_2 = \\sqrt{\\sum_{i=1}^n x_i^2}$\n",
    "\n",
    "$L_{\\infty}$ norm $\\|x\\|_\\infty = \\max(\\{|x_0| ..., |x_n|\\})$"
   ]
  },
  {
   "cell_type": "code",
   "execution_count": 5,
   "id": "8498c9e6-3e29-44f5-8f84-ccb02bf43b4a",
   "metadata": {},
   "outputs": [
    {
     "name": "stdout",
     "output_type": "stream",
     "text": [
      "6.0\n",
      "3.7416573867739413\n",
      "3.0\n"
     ]
    }
   ],
   "source": [
    "print(np.linalg.norm(x, ord=1))\n",
    "print(np.linalg.norm(x, ord=2))\n",
    "print(np.linalg.norm(x, ord=np.inf))"
   ]
  },
  {
   "cell_type": "code",
   "execution_count": 6,
   "id": "feba5fc8-11db-45c9-9845-6c41d1e87241",
   "metadata": {},
   "outputs": [
    {
     "data": {
      "text/plain": [
       "(6, 3.7416573867739413, 3)"
      ]
     },
     "execution_count": 6,
     "metadata": {},
     "output_type": "execute_result"
    }
   ],
   "source": [
    "np.sum(x), np.sqrt(np.sum(x**2)), np.max(np.abs(x))"
   ]
  },
  {
   "cell_type": "markdown",
   "id": "ec9b2549-0588-4086-b1fb-1537608883df",
   "metadata": {},
   "source": [
    "**Distance between 2 vectors**  \n",
    "With $L_p$ norm distance between 2 vectors $x_1, x_2$ is defined as\n",
    "$$d_p(x_1, x_2) = \\|x_1 - x_2\\|_p$$"
   ]
  },
  {
   "cell_type": "code",
   "execution_count": 7,
   "id": "cddc3db8-5535-4eed-9efe-dee4d8249be1",
   "metadata": {},
   "outputs": [
    {
     "name": "stdout",
     "output_type": "stream",
     "text": [
      "5.196152422706632\n"
     ]
    }
   ],
   "source": [
    "x1 = np.array([1, 2, 3])\n",
    "x2 = np.array([4, 5, 6])\n",
    "d = np.linalg.norm(x1 - x2)\n",
    "print(d)"
   ]
  },
  {
   "cell_type": "markdown",
   "id": "371a9b77-9561-49ae-b575-ba120958a41a",
   "metadata": {},
   "source": [
    "**Linear independence**\n",
    "\n",
    "[Wikipedia entry](https://en.wikipedia.org/wiki/Linear_independence)\n",
    "\n",
    "$$\\lambda_1 x_1 +  \\lambda_2 x_2 + \\dots \\lambda_mx_m = 0$$"
   ]
  },
  {
   "attachments": {
    "735b150b-2dae-4e87-8971-4c1feb343092.png": {
     "image/png": "[encoded data removed]"
    }
   },
   "cell_type": "markdown",
   "id": "6b126287-5886-442f-a251-5c507ce98cfe",
   "metadata": {},
   "source": [
    "**Matrix** \n",
    "\n",
    "![image.png](attachment:735b150b-2dae-4e87-8971-4c1feb343092.png)\n",
    "\n",
    "- matrix product is associative but not necessarily commutative\n",
    "- Inverse: $A^{-1}A = I$ and $\\exists A^{-1} \\iff \\det(A) \\neq 0$\n",
    "- Transpose: $A^T_{ij} = A_{ji}$"
   ]
  },
  {
   "cell_type": "markdown",
   "id": "db584b49",
   "metadata": {},
   "source": [
    "# Other matrices\n",
    "\n",
    "**Positive semidefinite matrix**  \n",
    "A square matrix $A$ is positive definite if and only if $x^TAx > 0$ for all $x \\in \\mathbb{R}^n$. If we allow the inequality to be non strict, we get the definition of a positive semidefinite matrix. \n",
    "\n",
    "Remember that $z^TAz$ is a scalar because $z$ is a $n \\times 1$ vector and $A$ is a $n \\times n$ matrix. This leads to $(1 \\times n) (n\\times n) (n\\times 1) = 1 \\times 1$ which is a scalar."
   ]
  },
  {
   "cell_type": "markdown",
   "id": "6f138b0b",
   "metadata": {},
   "source": [
    "# Matrix factorizations\n",
    "\n",
    "Matrices can be written as product of other matrices. \n",
    "\n",
    "*Intuition*: If we view matrices as transformations, a complex matrix might be the result of a sequence of simpler transformations. We can then decompose the matrix into these simpler transformations and interpret them separately."
   ]
  },
  {
   "cell_type": "markdown",
   "id": "bdd0328b-fc7b-48e9-abb8-289a8c1f05ab",
   "metadata": {},
   "source": [
    "## Eigendecomposition\n",
    "\n",
    "- [Eigendecomposition wikipedia](https://en.wikipedia.org/wiki/Eigendecomposition_of_a_matrix)\n",
    "- [Eigenvalues & Eigenvectors wikipedia](https://en.wikipedia.org/wiki/Eigenvalues_and_eigenvectors)\n",
    "- [Explained visually](https://setosa.io/ev/eigenvectors-and-eigenvalues/)\n",
    "\n",
    "**Eigenvector**  \n",
    "Let $A \\in \\mathbb R^{n \\times n}$ be a matrix. A nonzero vector $v \\in \\mathbb C^n$ is called an **eigenvector** of $A$ if there exists\n",
    "such scalar $\\lambda \\in \\mathbb C$ that\n",
    "\n",
    "$$Av = \\lambda v$$\n",
    "$\\lambda$ is called an **eigenvalue**\n",
    "\n",
    "*Intuition*: If we interpret matrices as transformation of the space eigenvectors are the vectors that don't change position after the matrix transformation is applied. Eigenvalues are how much these vectors are scaled by. See [3blue1brown video](https://www.youtube.com/watch?v=PFDu9oVAE-g)\n",
    "\n",
    "If $A$ has $n$ eigenvectors $(v_1, v_2 ...  v_n)$ that are **linearly independent**, corresponding to the eigenvalues\n",
    "$(\\lambda_1, \\lambda_2, ... , \\lambda_n)$, then it can be deduced that\n",
    "\n",
    "$$A \\begin{bmatrix}  v_1 && v_2 && ... && v_n \\end{bmatrix} = \\begin{bmatrix}  v_1 && v_2 && ... && v_n \\end{bmatrix} \\begin{bmatrix}  \\lambda_1 \\\\ && \\lambda_2  \\\\ && && \\ddots \\\\ && && &&  \\lambda_n \\end{bmatrix}$$\n",
    "\n",
    "Let $V = \\begin{bmatrix}  v_1 && v_2 && ... && v_n \\end{bmatrix} \\Rightarrow \\exists V^{-1} \\Rightarrow$ the eigendecomposition of $A$ is \n",
    "$$A = V \\diag(\\lambda) V^{-1} \\iff A = \\sum_{i = 1}^n \\lambda_i v_i v_i^T$$"
   ]
  },
  {
   "cell_type": "code",
   "execution_count": 11,
   "id": "4ae55e41-7ed0-43cc-a018-cc12cbfe0949",
   "metadata": {},
   "outputs": [
    {
     "name": "stdout",
     "output_type": "stream",
     "text": [
      "[[ 3 36 49]\n",
      " [20 35 42]\n",
      " [69 74 42]]\n",
      "lam = array([125.4064769 , -40.84630158,  -4.56017532])\n",
      "[[-0.44310521 -0.62625468  0.47741089]\n",
      " [-0.45646527 -0.2447512  -0.74164075]\n",
      " [-0.77155507  0.74020398  0.47121953]]\n"
     ]
    }
   ],
   "source": [
    "A = np.random.randint(0, 100, (3, 3))\n",
    "# A = np.array([\n",
    "#     [2, 3, 4],\n",
    "#     [5, 6, 7],\n",
    "#     [8, 9, 10],\n",
    "# ])\n",
    "assert np.linalg.det(A) != 0, \"A is not linear independent\"\n",
    "\n",
    "print(A)\n",
    "\n",
    "\n",
    "lam, V = np.linalg.eig(A)\n",
    "\n",
    "print(f\"{lam = }\")\n",
    "print(V)"
   ]
  },
  {
   "cell_type": "code",
   "execution_count": 31,
   "id": "5cbbb318-5b29-4b6f-aef0-9247887aa960",
   "metadata": {},
   "outputs": [
    {
     "name": "stdout",
     "output_type": "stream",
     "text": [
      "[[76. 87. 20.]\n",
      " [94. 99. 90.]\n",
      " [ 5. 22. 91.]]\n"
     ]
    }
   ],
   "source": [
    "print(V @ np.diag(lam) @ np.linalg.inv(V))"
   ]
  },
  {
   "attachments": {
    "966efc82-7d01-42be-9cbf-002463698cf8.png": {
     "image/png": "[encoded data removed]"
    }
   },
   "cell_type": "markdown",
   "id": "8dc5402f-00b2-4475-b4e0-cbb4a03b534a",
   "metadata": {},
   "source": [
    "## SVD\n",
    "- [Wikipedia entry](https://en.wikipedia.org/wiki/Singular_value_decomposition)\n",
    "- [Great series on svd](https://www.youtube.com/playlist?list=PLMrJAkhIeNNSVjnsviglFoY2nXildDCcv)\n",
    "\n",
    "![image.png](attachment:966efc82-7d01-42be-9cbf-002463698cf8.png)"
   ]
  },
  {
   "cell_type": "markdown",
   "id": "85273b6b-e146-4864-a813-ff5fca2efdfd",
   "metadata": {},
   "source": [
    "Whereas eigenvalue decomposition can be applied to certain matrices SVD can be applied to all matrices. let $A \\in \\mathbb{R}^{m \\times n}$\n",
    "$$A = U \\Sigma V^T$$\n",
    "\n",
    "Where\n",
    "- $U \\in R^{m \\times m}$ -- Left singular vectors\n",
    "- $V \\in R^{n \\times n}$ -- Right singular vectors\n",
    "- $\\Sigma$ -- singular values -- Scaling\n",
    "\n",
    "**Remark**:\n",
    "- $U, V$ represent rotations / reflections\n",
    "- $\\Sigma$ represents scaling\n",
    "- SVD is not unique, $\\Sigma$ can be uniquely determined by choosing the singular values in descending order"
   ]
  },
  {
   "cell_type": "code",
   "execution_count": 12,
   "id": "b1215b25-659c-41f8-89f7-2850a1b82697",
   "metadata": {},
   "outputs": [
    {
     "name": "stdout",
     "output_type": "stream",
     "text": [
      "[[65 40 75]\n",
      " [23 44 60]\n",
      " [86 21 51]]\n",
      "U\n",
      "[[-0.66274838 -0.13325757 -0.73689009]\n",
      " [-0.43967394 -0.72732125  0.52696359]\n",
      " [-0.60617771  0.67323564  0.42344109]]\n",
      "S\n",
      "[161.16575935  44.35310716   3.37637344]\n",
      "Vt\n",
      "[[-0.65350375 -0.36350972 -0.66392283]\n",
      " [ 0.73293926 -0.52295072 -0.43511214]\n",
      " [ 0.18903143  0.77096253 -0.60818081]]\n",
      "\n",
      "[[65. 40. 75.]\n",
      " [23. 44. 60.]\n",
      " [86. 21. 51.]]\n"
     ]
    }
   ],
   "source": [
    "A = np.random.randint(0, 100, (3, 3))\n",
    "print(A)\n",
    "\n",
    "U, S, Vt = np.linalg.svd(A)\n",
    "\n",
    "print(\"U\")\n",
    "print(U)\n",
    "print(\"S\")\n",
    "print(S)\n",
    "print(\"Vt\")\n",
    "print(Vt)\n",
    "\n",
    "print()\n",
    "print(U @ np.diag(S) @ Vt)"
   ]
  },
  {
   "cell_type": "code",
   "execution_count": 47,
   "id": "11aabede-f9ac-4235-b2fd-167948afe589",
   "metadata": {},
   "outputs": [
    {
     "name": "stdout",
     "output_type": "stream",
     "text": [
      "[[ 1.00000000e+00  3.27698672e-16  1.23342257e-16]\n",
      " [ 3.27698672e-16  1.00000000e+00 -1.89432798e-16]\n",
      " [ 1.23342257e-16 -1.89432798e-16  1.00000000e+00]]\n",
      "\n",
      "[[ 1.00000000e+00  1.46479185e-16 -1.48407940e-17]\n",
      " [ 1.46479185e-16  1.00000000e+00 -1.59348659e-18]\n",
      " [-1.48407940e-17 -1.59348659e-18  1.00000000e+00]]\n"
     ]
    }
   ],
   "source": [
    "print(U @ U.T)\n",
    "print()\n",
    "print(Vt @ Vt.T)"
   ]
  },
  {
   "cell_type": "code",
   "execution_count": null,
   "id": "4cfd849c-de44-472a-906f-fbf0f7dbddf2",
   "metadata": {},
   "outputs": [],
   "source": []
  }
 ],
 "metadata": {
  "kernelspec": {
   "display_name": "Python 3 (ipykernel)",
   "language": "python",
   "name": "python3"
  },
  "language_info": {
   "codemirror_mode": {
    "name": "ipython",
    "version": 3
   },
   "file_extension": ".py",
   "mimetype": "text/x-python",
   "name": "python",
   "nbconvert_exporter": "python",
   "pygments_lexer": "ipython3",
   "version": "3.10.13"
  }
 },
 "nbformat": 4,
 "nbformat_minor": 5
}
